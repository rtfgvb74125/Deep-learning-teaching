{
 "cells": [
  {
   "cell_type": "markdown",
   "metadata": {
    "id": "11NrlPoB4YBh"
   },
   "source": [
    "簡單MLP神經網路架設預測diabetes，第一個程式使用sigmoid輸出啟動函式，這邊使用softmax輸出啟動函式，與第一程式比較差異，以及損失函式準確率圖形觀察，以及模型調整。"
   ]
  },
  {
   "cell_type": "code",
   "execution_count": null,
   "metadata": {
    "id": "cM7msI2h4YBm"
   },
   "outputs": [],
   "source": [
    "import pandas as pd\n",
    "import numpy as np\n",
    "from tensorflow.keras.models import Sequential\n",
    "from tensorflow.keras.layers import Dense\n",
    "import csv\n",
    "import tensorflow as tf\n",
    "import matplotlib.pyplot as plt"
   ]
  },
  {
   "cell_type": "markdown",
   "metadata": {
    "id": "cPwtTisR4YBn"
   },
   "source": [
    "#  load Diabetes data"
   ]
  },
  {
   "cell_type": "code",
   "execution_count": null,
   "metadata": {
    "colab": {
     "base_uri": "https://localhost:8080/",
     "height": 204
    },
    "id": "GieKUrOH4YBn",
    "outputId": "30668bfc-24f0-47c3-a9ab-90616ca8941d"
   },
   "outputs": [],
   "source": [
    "df_diabetes = pd.read_csv('diabetes.csv')\n",
    "df_diabetes.head()"
   ]
  },
  {
   "cell_type": "code",
   "execution_count": null,
   "metadata": {
    "id": "DfpIUUoV4YBo"
   },
   "outputs": [],
   "source": [
    "np.random.seed(10)\n",
    "datasets = df_diabetes.values\n",
    "np.random.shuffle(datasets)"
   ]
  },
  {
   "cell_type": "code",
   "execution_count": null,
   "metadata": {
    "id": "ipMvf9sH4YBo"
   },
   "outputs": [],
   "source": [
    "X = datasets[:,0:8]\n",
    "y = datasets[:,8]"
   ]
  },
  {
   "cell_type": "code",
   "execution_count": null,
   "metadata": {
    "id": "6e5NvDw-4YBp"
   },
   "outputs": [],
   "source": [
    "y = tf.keras.utils.to_categorical(y)"
   ]
  },
  {
   "cell_type": "code",
   "execution_count": null,
   "metadata": {
    "id": "RQp4tN5A4YBp"
   },
   "outputs": [],
   "source": [
    "X -=X.mean(axis=0)\n",
    "X /= X.std(axis=0)"
   ]
  },
  {
   "cell_type": "code",
   "execution_count": null,
   "metadata": {
    "id": "qGRT5-n64YBp"
   },
   "outputs": [],
   "source": [
    "X_train,y_train = X[:690],y[:690]\n",
    "X_test,y_test = X[690:],y[690:]"
   ]
  },
  {
   "cell_type": "code",
   "execution_count": null,
   "metadata": {
    "colab": {
     "base_uri": "https://localhost:8080/"
    },
    "id": "ePJV6Ji54YBp",
    "outputId": "944b67da-997d-402e-8167-052410298dbf"
   },
   "outputs": [],
   "source": [
    "print(X_train.shape)\n",
    "print(y_train.shape)\n",
    "print(X_test.shape)\n",
    "print(y_test.shape)"
   ]
  },
  {
   "cell_type": "code",
   "execution_count": null,
   "metadata": {
    "id": "izBokQhr4YBq"
   },
   "outputs": [],
   "source": [
    "model = Sequential([\n",
    "    Dense(10,input_shape = (8,),activation = 'relu'),\n",
    "    Dense(6,activation = 'relu'),\n",
    "    Dense(2,activation = 'softmax')\n",
    "])"
   ]
  },
  {
   "cell_type": "code",
   "execution_count": null,
   "metadata": {
    "id": "bc0Lo-Qz4YBq"
   },
   "outputs": [],
   "source": [
    "model.compile(loss = 'binary_crossentropy',optimizer = 'adam',metrics = ['accuracy'])"
   ]
  },
  {
   "cell_type": "code",
   "execution_count": null,
   "metadata": {
    "id": "jUi3nehw4YBq"
   },
   "outputs": [],
   "source": [
    "#validation_data：驗證資料集，在訓練時驗證\n",
    "history = model.fit(X_train,y_train,\n",
    "                   validation_data = (X_test,y_test),\n",
    "                   epochs = 150 , batch_size = 10,verbose=0)"
   ]
  },
  {
   "cell_type": "markdown",
   "metadata": {
    "id": "UGP4M0PB4YBq"
   },
   "source": [
    "# loss & accuracy圖表"
   ]
  },
  {
   "cell_type": "code",
   "execution_count": null,
   "metadata": {
    "colab": {
     "base_uri": "https://localhost:8080/",
     "height": 295
    },
    "id": "4Ft35CgU4YBr",
    "outputId": "3b1d42fd-ac17-4514-caee-b6015576c253",
    "scrolled": false
   },
   "outputs": [],
   "source": [
    "#繪出訓練和驗證的損失圖表\n",
    "\n",
    "#圖表可看出訓練集在反覆學習後，損失下降準確率會上升;但驗證集約在10次訓練週期左右\n",
    "#其損失沒有再下降，反而上升，所以代表訓練週期大概落在10左右就可以了。\n",
    "loss = history.history['loss']\n",
    "epochs = range(1,len(loss)+1)\n",
    "val_loss = history.history['val_loss']\n",
    "plt.plot(epochs , loss , 'bo' , label='Training loss')\n",
    "plt.plot(epochs , val_loss , 'r' , label='Validation loss')\n",
    "plt.title('Training and Validation Loss')\n",
    "plt.xlabel('Epochs')\n",
    "plt.ylabel('Loss')\n",
    "plt.legend()\n",
    "plt.show()"
   ]
  },
  {
   "cell_type": "code",
   "execution_count": null,
   "metadata": {
    "colab": {
     "base_uri": "https://localhost:8080/",
     "height": 295
    },
    "id": "EZ7YCgli4YBr",
    "outputId": "e546a275-8f7d-49ce-93a0-57b10b87cff6"
   },
   "outputs": [],
   "source": [
    "#繪出訓練和驗證的準確率圖表\n",
    "#下圖可看出訓練集資料準確度明顯提升，但驗證集在10次訓練後，其準確度沒有提升。\n",
    "acc = history.history['accuracy']\n",
    "epochs = range(1,len(acc)+1)\n",
    "val_acc = history.history['val_accuracy']\n",
    "plt.plot(epochs , acc ,'b-' , label = 'Traning acc')\n",
    "plt.plot(epochs , val_acc , 'r-' , label = 'Validation acc')\n",
    "plt.title('Training and Validation Accuracy')\n",
    "plt.xlabel('Epochs')\n",
    "plt.ylabel('Accuracy')\n",
    "plt.legend()\n",
    "plt.show()"
   ]
  },
  {
   "cell_type": "markdown",
   "metadata": {
    "id": "a14iRWbp7jeX"
   },
   "source": [
    "# 調整模型epochs"
   ]
  },
  {
   "cell_type": "code",
   "execution_count": null,
   "metadata": {
    "id": "Voyqr3Z28VLL"
   },
   "outputs": [],
   "source": [
    "model2 = Sequential([\n",
    "    Dense(10,input_shape = (8,),activation = 'relu'),\n",
    "    Dense(6,activation = 'relu'),\n",
    "    Dense(2,activation = 'softmax')\n",
    "])"
   ]
  },
  {
   "cell_type": "code",
   "execution_count": null,
   "metadata": {
    "id": "KrK3vSy58Xr7"
   },
   "outputs": [],
   "source": [
    "model2.compile(loss = 'binary_crossentropy',optimizer = 'adam',metrics = ['accuracy'])"
   ]
  },
  {
   "cell_type": "code",
   "execution_count": null,
   "metadata": {
    "colab": {
     "base_uri": "https://localhost:8080/"
    },
    "id": "-9loVQqB4YBr",
    "outputId": "09ff1304-c750-47c3-af13-c0ca4b977a55"
   },
   "outputs": [],
   "source": [
    "history = model2.fit(X_train,y_train,\n",
    "                   validation_data = (X_test,y_test),\n",
    "                   epochs = 4 , batch_size = 10,verbose=1)\n",
    "#若要使用自動分割可以把validataion_data換成validation_solit=int"
   ]
  },
  {
   "cell_type": "code",
   "execution_count": null,
   "metadata": {
    "colab": {
     "base_uri": "https://localhost:8080/",
     "height": 295
    },
    "id": "kPy-_WRk76jU",
    "outputId": "53e5ce48-f56b-4b67-e937-64714a17ac29"
   },
   "outputs": [],
   "source": [
    "loss = history.history['loss']\n",
    "epochs = range(1,len(loss)+1)\n",
    "val_loss = history.history['val_loss']\n",
    "plt.plot(epochs , loss , 'bo' , label='Training loss')\n",
    "plt.plot(epochs , val_loss , 'r' , label='Validation loss')\n",
    "plt.title('Training and Validation Loss')\n",
    "plt.xlabel('Epochs')\n",
    "plt.ylabel('Loss')\n",
    "plt.legend()\n",
    "plt.show()"
   ]
  },
  {
   "cell_type": "code",
   "execution_count": null,
   "metadata": {
    "colab": {
     "base_uri": "https://localhost:8080/",
     "height": 295
    },
    "id": "tIoBZpbl78s8",
    "outputId": "2e615f31-26f5-4e0e-f859-6a3373f1a4fb"
   },
   "outputs": [],
   "source": [
    "acc = history.history['accuracy']\n",
    "epochs = range(1,len(acc)+1)\n",
    "val_acc = history.history['val_accuracy']\n",
    "plt.plot(epochs , acc ,'b-' , label = 'Traning acc')\n",
    "plt.plot(epochs , val_acc , 'r-' , label = 'Validation acc')\n",
    "plt.title('Training and Validation Accuracy')\n",
    "plt.xlabel('Epochs')\n",
    "plt.ylabel('Accuracy')\n",
    "plt.legend()\n",
    "plt.show()"
   ]
  },
  {
   "cell_type": "markdown",
   "metadata": {
    "id": "D0ThXIhA9GPA"
   },
   "source": [
    "# 模型預測值\n"
   ]
  },
  {
   "cell_type": "code",
   "execution_count": null,
   "metadata": {
    "id": "xUmVW6zx9NbX"
   },
   "outputs": [],
   "source": [
    "y_pred = model2.predict(X_test,batch_size=10,verbose=0)\n",
    "print(y_pred[0])"
   ]
  }
 ],
 "metadata": {
  "colab": {
   "name": "Python_Deeplearning_MLP_diabetes-2.ipynb",
   "provenance": [],
   "toc_visible": true
  },
  "kernelspec": {
   "display_name": "Python 3",
   "language": "python",
   "name": "python3"
  },
  "language_info": {
   "codemirror_mode": {
    "name": "ipython",
    "version": 3
   },
   "file_extension": ".py",
   "mimetype": "text/x-python",
   "name": "python",
   "nbconvert_exporter": "python",
   "pygments_lexer": "ipython3",
   "version": "3.7.9"
  }
 },
 "nbformat": 4,
 "nbformat_minor": 1
}
